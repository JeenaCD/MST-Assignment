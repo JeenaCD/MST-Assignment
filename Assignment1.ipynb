{
 "cells": [
  {
   "cell_type": "markdown",
   "id": "dcb638b7",
   "metadata": {},
   "source": [
    "## 1. Write a Python Program to accept the details of a student like name, roll number and mark and display"
   ]
  },
  {
   "cell_type": "code",
   "execution_count": 1,
   "id": "ac5132e0",
   "metadata": {},
   "outputs": [
    {
     "name": "stdout",
     "output_type": "stream",
     "text": [
      "Enter the name of the student:Jeena C. D.\n",
      "Enter the roll number:1\n",
      "Enter the mark:100\n"
     ]
    }
   ],
   "source": [
    "student = {'Name':input('Enter the name of the student:'),'Roll no':input('Enter the roll number:'),'Mark':input('Enter the mark:')}"
   ]
  },
  {
   "cell_type": "code",
   "execution_count": 2,
   "id": "2ddc6cb4",
   "metadata": {},
   "outputs": [
    {
     "name": "stdout",
     "output_type": "stream",
     "text": [
      "{'Name': 'Jeena C. D.', 'Roll no': '1', 'Mark': '100'}\n"
     ]
    }
   ],
   "source": [
    "print(student)"
   ]
  },
  {
   "cell_type": "markdown",
   "id": "5ce4b1e7",
   "metadata": {},
   "source": [
    "## 2. Write a Python program to convert temperatures to and from Celsius Fahrenheit. [Formula: c/5=f-32/9 where c=temperature in Celsius and f= temperature in Fahrenheit.]"
   ]
  },
  {
   "cell_type": "markdown",
   "id": "212b9240",
   "metadata": {},
   "source": [
    "### Python program to convert temperature - Fahrenheit to Celsius"
   ]
  },
  {
   "cell_type": "code",
   "execution_count": 3,
   "id": "55f6ad8c",
   "metadata": {},
   "outputs": [
    {
     "name": "stdout",
     "output_type": "stream",
     "text": [
      "Enter the temperature in Farenheit: 41\n",
      "Temperature in Celsius:  5\n"
     ]
    }
   ],
   "source": [
    "Temp_Fahrenheit = int(input(\"Enter the temperature in Farenheit: \"))\n",
    "Temp_Celsius = 5 * ((Temp_Fahrenheit-32)/9)\n",
    "print(\"Temperature in Celsius: \",int(Temp_Celsius))"
   ]
  },
  {
   "cell_type": "markdown",
   "id": "fe18ac12",
   "metadata": {},
   "source": [
    "### Python program to convert temperature - Celsius to Fahrenheit"
   ]
  },
  {
   "cell_type": "code",
   "execution_count": 4,
   "id": "b80a6053",
   "metadata": {},
   "outputs": [
    {
     "name": "stdout",
     "output_type": "stream",
     "text": [
      "Enter the temperature in Celsius: 5\n",
      "Temperature in Fahrenheit:  41\n"
     ]
    }
   ],
   "source": [
    "Temp_Celsius = int(input(\"Enter the temperature in Celsius: \"))\n",
    "Temp_Fahrenheit = ((9*Temp_Celsius)/5)+32\n",
    "print(\"Temperature in Fahrenheit: \",int(Temp_Fahrenheit))"
   ]
  },
  {
   "cell_type": "markdown",
   "id": "03f379bc",
   "metadata": {},
   "source": [
    "## 3. Write a Python program to accept two numbers from the user and display its product.\n"
   ]
  },
  {
   "cell_type": "code",
   "execution_count": 12,
   "id": "7f3b4c79",
   "metadata": {},
   "outputs": [
    {
     "name": "stdout",
     "output_type": "stream",
     "text": [
      "Enter two numbers: 4 5\n",
      "Product of two numbers is  20\n"
     ]
    }
   ],
   "source": [
    "a,b = (input(\"Enter two numbers: \")).split(' ')\n",
    "print(\"Product of two numbers is \", int(a)*int(b))"
   ]
  },
  {
   "cell_type": "markdown",
   "id": "22efa320",
   "metadata": {},
   "source": [
    "## 4. Write a Python program to accept a string “Learn Python by Developing a Website” and display the string like “Learn**Python** by Developing ** a Website**"
   ]
  },
  {
   "cell_type": "code",
   "execution_count": 21,
   "id": "2af786f8",
   "metadata": {},
   "outputs": [
    {
     "name": "stdout",
     "output_type": "stream",
     "text": [
      "Enter the String: Learn Python by Developing a Website\n",
      "Learn Python by Developing a Website\n",
      "Learn**Python**by**Developing**a**Website\n"
     ]
    }
   ],
   "source": [
    "string = input(\"Enter the String: \")\n",
    "print(string)\n",
    "x = string.split(' ')\n",
    "result = '**'.join(x)\n",
    "print(result)"
   ]
  },
  {
   "cell_type": "markdown",
   "id": "16397162",
   "metadata": {},
   "source": [
    "## 5. Write a Python program to accept the radius of a circle and display its area.\n"
   ]
  },
  {
   "cell_type": "code",
   "execution_count": 25,
   "id": "93e992a7",
   "metadata": {},
   "outputs": [
    {
     "name": "stdout",
     "output_type": "stream",
     "text": [
      "Enter the radius of the circle: 2\n",
      "Area of the circle:  12.566370614359172\n"
     ]
    }
   ],
   "source": [
    "import math\n",
    "radius = int(input(\"Enter the radius of the circle: \"))\n",
    "print(\"Area of the circle: \",(math.pi*radius**2))\n"
   ]
  },
  {
   "cell_type": "markdown",
   "id": "86998f5b",
   "metadata": {},
   "source": [
    "## 6. Python program to insert a number to any position in a list (Get the number to be inserted and position from the user)"
   ]
  },
  {
   "cell_type": "code",
   "execution_count": 27,
   "id": "ca88e116",
   "metadata": {},
   "outputs": [
    {
     "name": "stdout",
     "output_type": "stream",
     "text": [
      "Enter the position number and number to be inserted: 1 3\n",
      "[2, 3, 4, 5, 6]\n"
     ]
    }
   ],
   "source": [
    "list1 = [2,4,5,6]\n",
    "position_num, num = input(\"Enter the position number and number to be inserted: \").split(\" \")\n",
    "list1.insert(int(position_num), int(num))\n",
    "print(list1)"
   ]
  },
  {
   "cell_type": "markdown",
   "id": "f3a1cf14",
   "metadata": {},
   "source": [
    "## 7. Write a program to rename a key city to a location in the following dictionary.\n"
   ]
  },
  {
   "cell_type": "code",
   "execution_count": 1,
   "id": "5ff8749e",
   "metadata": {},
   "outputs": [
    {
     "name": "stdout",
     "output_type": "stream",
     "text": [
      "{'name': 'John', 'age': 5, 'salary': 8000, 'city': 'India'}\n"
     ]
    }
   ],
   "source": [
    "sample_dict = { \"name\": \"John\", \"age\":5, \"salary\": 8000, \"city\": \"New York\"}\n",
    "sample_dict[\"city\"] = \"India\"\n",
    "print(sample_dict)"
   ]
  },
  {
   "cell_type": "markdown",
   "id": "19be7fa6",
   "metadata": {},
   "source": [
    "### 8. Write a Python program to change Brad’s salary to 8500 in the following dictionary."
   ]
  },
  {
   "cell_type": "code",
   "execution_count": 11,
   "id": "8559cebe",
   "metadata": {},
   "outputs": [
    {
     "name": "stdout",
     "output_type": "stream",
     "text": [
      "{'emp1': {'name': 'John', 'salary': 7500}, 'emp2': {'name': 'Emma', 'salary': 8000}, 'emp3': {'name': 'Brad', 'salary': 8500}}\n"
     ]
    }
   ],
   "source": [
    "sample_dict = {\n",
    "'emp1': {'name': 'John', 'salary': 7500},\n",
    "'emp2': {'name': 'Emma', 'salary': 8000},\n",
    "'emp3': {'name': 'Brad', 'salary': 500}\n",
    "}\n",
    "sample_dict['emp3']['salary']= 8500\n",
    "print(sample_dict)"
   ]
  },
  {
   "cell_type": "markdown",
   "id": "5df43850",
   "metadata": {},
   "source": [
    "### 9. Write a program to copy elements 43 and 54 from the following tuple into a new tuple. Given: tuple1 = (10, 20, 43, 54, 56, 68)"
   ]
  },
  {
   "cell_type": "code",
   "execution_count": 16,
   "id": "8449f15f",
   "metadata": {},
   "outputs": [
    {
     "name": "stdout",
     "output_type": "stream",
     "text": [
      "New tuple is  (43, 54)\n"
     ]
    }
   ],
   "source": [
    "tuple1 = (10, 20, 43, 54, 56, 68)\n",
    "output = (tuple1[2:4])\n",
    "print(\"New tuple is \",output)\n"
   ]
  },
  {
   "cell_type": "markdown",
   "id": "ca5cd9bf",
   "metadata": {},
   "source": [
    "### 10. Counts the number of occurrences of item 50 from a tuple\n"
   ]
  },
  {
   "cell_type": "code",
   "execution_count": 19,
   "id": "dab5df67",
   "metadata": {},
   "outputs": [
    {
     "name": "stdout",
     "output_type": "stream",
     "text": [
      "Number of occurence of item 50:  3\n"
     ]
    }
   ],
   "source": [
    "tuple1 = (50, 10, 60, 70, 50,83,567,50,81)\n",
    "number = tuple1.count(50)\n",
    "print(\"Number of occurence of item 50: \",number)"
   ]
  }
 ],
 "metadata": {
  "kernelspec": {
   "display_name": "Python 3 (ipykernel)",
   "language": "python",
   "name": "python3"
  },
  "language_info": {
   "codemirror_mode": {
    "name": "ipython",
    "version": 3
   },
   "file_extension": ".py",
   "mimetype": "text/x-python",
   "name": "python",
   "nbconvert_exporter": "python",
   "pygments_lexer": "ipython3",
   "version": "3.9.13"
  }
 },
 "nbformat": 4,
 "nbformat_minor": 5
}
